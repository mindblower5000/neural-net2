{
 "cells": [
  {
   "cell_type": "markdown",
   "metadata": {},
   "source": [
    "### HW3 Мельчук Андрей. Практическое задание."
   ]
  },
  {
   "cell_type": "markdown",
   "metadata": {},
   "source": [
    "#### 1. Попробуйте обучить нейронную сеть на TensorFlow 2 на любом датасете imdb_reviews. Опишите в комментарии к уроку - какой результата вы добились от нейросети? Что помогло вам улучшить ее точность?"
   ]
  },
  {
   "cell_type": "markdown",
   "metadata": {},
   "source": [
    "\n",
    "#### 2. Поработайте с документацией TensorFlow2. Найдите полезные команды не разобранные на уроке."
   ]
  },
  {
   "cell_type": "markdown",
   "metadata": {},
   "source": [
    "#### Классификации положительных и отрицательных отзывов"
   ]
  },
  {
   "cell_type": "markdown",
   "metadata": {},
   "source": [
    "Решение взято из документации по TF,\n",
    "https://www.tensorflow.org/tutorials/keras/text_classification_with_hub\n",
    "и модифицировано."
   ]
  },
  {
   "cell_type": "code",
   "execution_count": 1,
   "metadata": {},
   "outputs": [],
   "source": [
    "import matplotlib.pyplot as plt\n",
    "import numpy as np\n",
    "import tensorflow as tf"
   ]
  },
  {
   "cell_type": "code",
   "execution_count": 137,
   "metadata": {},
   "outputs": [],
   "source": [
    "import tensorflow_datasets as tfds\n",
    "# tfds.disable_progress_bar()"
   ]
  },
  {
   "cell_type": "code",
   "execution_count": 3,
   "metadata": {},
   "outputs": [],
   "source": [
    "from __future__ import absolute_import, division, print_function, unicode_literals\n",
    "import tensorflow_hub as hub"
   ]
  },
  {
   "cell_type": "code",
   "execution_count": 4,
   "metadata": {},
   "outputs": [
    {
     "name": "stdout",
     "output_type": "stream",
     "text": [
      "Version:  2.1.0\n",
      "Eager mode:  True\n",
      "Hub version:  0.8.0\n",
      "GPU is NOT AVAILABLE\n"
     ]
    }
   ],
   "source": [
    "print(\"Version: \", tf.__version__)\n",
    "print(\"Eager mode: \", tf.executing_eagerly())\n",
    "print(\"Hub version: \", hub.__version__)\n",
    "print(\"GPU is\", \"available\" if tf.config.experimental.list_physical_devices(\"GPU\") else \"NOT AVAILABLE\")"
   ]
  },
  {
   "cell_type": "code",
   "execution_count": 140,
   "metadata": {},
   "outputs": [
    {
     "data": {
      "text/plain": [
       "[]"
      ]
     },
     "execution_count": 140,
     "metadata": {},
     "output_type": "execute_result"
    }
   ],
   "source": [
    "tf.config.list_physical_devices('GPU')"
   ]
  },
  {
   "cell_type": "code",
   "execution_count": 141,
   "metadata": {
    "colab": {},
    "colab_type": "code",
    "id": "zXXx5Oc3pOmN"
   },
   "outputs": [],
   "source": [
    "(train_data, validation_data, test_data), metadata = tfds.load(\n",
    "    name=\"imdb_reviews\", \n",
    "    split=['train[:80%]', 'train[80%:90%]', 'train[90%:]'],\n",
    "    with_info=True,\n",
    "    as_supervised=True)"
   ]
  },
  {
   "cell_type": "code",
   "execution_count": 142,
   "metadata": {
    "colab": {},
    "colab_type": "code",
    "id": "QtTS4kpEpjbi"
   },
   "outputs": [
    {
     "data": {
      "text/plain": [
       "<tf.Tensor: shape=(10,), dtype=string, numpy=\n",
       "array([b'This is a big step down after the surprisingly enjoyable original. This sequel isn\\'t nearly as fun as part one, and it instead spends too much time on plot development. Tim Thomerson is still the best thing about this series, but his wisecracking is toned down in this entry. The performances are all adequate, but this time the script lets us down. The action is merely routine and the plot is only mildly interesting, so I need lots of silly laughs in order to stay entertained during a \"Trancers\" movie. Unfortunately, the laughs are few and far between, and so, this film is watchable at best.',\n",
       "       b\"Perhaps because I was so young, innocent and BRAINWASHED when I saw it, this movie was the cause of many sleepless nights for me. I haven't seen it since I was in seventh grade at a Presbyterian school, so I am not sure what effect it would have on me now. However, I will say that it left an impression on me... and most of my friends. It did serve its purpose, at least until we were old enough and knowledgeable enough to analyze and create our own opinions. I was particularly terrified of what the newly-converted post-rapture Christians had to endure when not receiving the mark of the beast. I don't want to spoil the movie for those who haven't seen it so I will not mention details of the scenes, but I can still picture them in my head... and it's been 19 years.\",\n",
       "       b'Hood of the Living Dead had a lot to live up to even before the opening credits began. First, any play on \"...of the living dead\" invokes His Holiness Mr. Romero and instantly sets up a high standard to which many movies cannot afford to aspire. And second, my movie-watching companion professed doubt that any urban horror film would surpass the seminal Leprechaun In the Hood. Skeptical, we settled in to watch. <br /><br />We were rewarded with a surprisingly sincere and good-hearted zombie film. Oh, certainly the budget is low, and of course the directors\\' amateurs friends populate the cast, but Hood of the Living Dead loves zombie cinema. Cheap? Yeah. But when it\\'s this cheap, you can clearly see where LOVE holds it together. <br /><br />Ricky works in a lab during the day and as a surrogate parent to his younger brother at night. He dreams of moving out of Oakland. Before this planned escape, however, his brother is shot to death in a drive-by. Ricky\\'s keen scientific mind presents an option superior to CPR or 911: injections of his lab\\'s experimental regenerative formula. Sadly, little bro wakes up in an ambulance as a bloodthirsty Oakland zombie! Chaos and mayhem! I think it\\'s more economical to eat your enemies than take vengeance in a drive-by, but then again, I\\'m a poor judge of the complexities of urban life. (How poor a judge? In response to a gory scene involving four men, I opined \"Ah-ha! White t-shirts on everyone so the blood shows up. Economical! I used the same technique in my own low-budget horror film.\" Jordan replied, \"No, that\\'s gang dress. White t-shirts were banned from New Orleans bars for a time as a result.\" Oh.)<br /><br />A lot of the movie is set in someone\\'s living room, so there\\'s a great deal of hanging out and waiting for the zombies. But the characters are sympathetic and the movie is sincere-- it surpasses its budget in spirit. <br /><br />Zombie explanation: When man plays God, zombies arise! Or, perhaps: Follow FDA-approved testing rules before human experimentation! <br /><br />Contribution to the zombie canon: This is the first zombie movie I\\'ve seen with a drive-by shooting. As far as the actual zombies go, infection is spread with a bite as usual, but quite unusually head shots don\\'t work-- it\\'s heart shots that kill. Zombies have pulses, the absence of which proves true death. And these zombies make pretty cool jaguar-growl noises. <br /><br />Gratuitous zombie movie in-joke: A mercenary named Romero. Groan. <br /><br />Favorite zombie: Jaguar-noise little brother zombie, of course!',\n",
       "       b\"For me this is a story that starts with some funny jokes regarding Franks fanatasies when he is travelling with a staircase and when he is sitting in business meetings... The problem is that when you have been watching this movie for an hour you will see the same fantasies/funny situations again and again and again. It is to predictable. It is more done as a TV story where you can go away and come back without missing anything.<br /><br />I like Felix Herngren as Frank but that is not enough even when it is a comedy it has to have more variations and some kind of message to it's audience....<br /><br />\",\n",
       "       b'This is not a bad movie. It follows the new conventions of modern horror, that is the movie within a movie, the well known actress running for her life in the first scene. This movie takes the old convention of a psycho killer on he loose, and manage to do something new, and interesting with it. It is also always nice to see Molly Ringwald back for the attack.<br /><br />So this might be an example of what the genre has become. Cut hits all the marks, and is actually scary in some parts. I liked it I gave it an eight.',\n",
       "       b\"I just finished a marathon of this series, and it became agonising to watch as it progressed. From the fictionalising of the historical elements, to O'Herlihy's awful accent in later episodes, the show just slumps the further it goes. If you are looking for some low quality production generalised WW2 fluff, then I could recommend season 1, but avoid anything after that, it degenerates into being one step from a soap opera, with increasingly worse story lines and sensibility.<br /><br />The old B&W film is by far the best of any form of entertainment with the Colditz name attached to it, and even that is not what one could hope for.\",\n",
       "       b'I am very sorry that this charming and whimsical film (which I first saw soon after it was first released in the early fifties) has had such a poor reception more recently. In my opinion it has been greatly underrated - but perhaps it appeals more to the European sense of humour than to (for example) the American: maybe we in Europe can understand and appreciate its subtleties and situations more, since we are closer to some of them in real life! Particular mention should be made of the limited but good music - especially the catchy and memorable song \"It\\'s a fine, fine night\", which was issued separately on an HMV 78rpm record (10 inch plum label, I think!) in the fifties. I would urge anyone interested to give it a try if you get the chance: you may have a pleasant surprise.',\n",
       "       b\"Well i am going to go against the grain on this film so it seems. Being a self confessed horror fan I sat down to this not quite knowing what to expect. After 2 or 3 mins i actually found myself scared (quite rare). The film obviously has a small budget and is set around charing cross station but the films lack of money does not distract from the story. Yes the story is a bit far fetched and doesn't explain itself very well but THE CREEP is a class act and proceeds to slash and dismember anything that comes its way. MESSAGE FOR LADIES !!! THERE ARE CERTAIN PARTS OF THE FILM YOU SHOULD CLOSE YOUR EYES AT OR AT LEAST CROSS YOUR LEGS !! you will understand when you see it.<br /><br />All in all a good film and it makes a change to see a good slasher movie that actually scares\",\n",
       "       b'Even 15 years after the end of the Vietnam war \"Jacknife\" came not too late or was even superfluous. It\\'s one of the few that try to deal with the second sad side of the war: The time after. Different from movies like \"Taxi driver\" or \"Rambo\" which use to present their main characters as broken heroes in a bad after war environment this movie allows the audience to face a different view on the Vietnam vets. Their development is shown very precisely before and especially after the war. The problems are obvious but in all this tragic there is always the feeling of some hope on the basis of love and friendship. \"Jacknife\" might be the quietest Vietnam movie ever but after almost 15 years this is really plausible and therefor justified. Moreover, it can make us believe that the war has not finished, yet; at least for some of us.<br /><br />The three main characters are amazing. De Niro has done one of his best jobs but Ed Harris is the star of this movie. Possibly,this was his best performance ever.',\n",
       "       b'Before I explain the \"Alias\" comment let me say that \"The Desert Trail\" is bad even by the standards of westerns staring The Three Stooges. In fact it features Carmen Laroux as semi- bad girl Juanita, when you hear her Mexican accent you will immediately recognize her as Senorita Rita from the classic Stooge short \"Saved by the Belle\". <br /><br />In \"The Desert Trail\" John Wayne gets to play the Moe Howard character and Eddy Chandler gets to play Curly Howard. Like their Stooge counterparts a running gag throughout the 53- minute movie is Moe hitting Curly. Wayne\\'s character, a skirt chasing bully, is not very endearing, but is supposed to be the good guy. <br /><br />Playing a traveling rodeo cowboy Wayne holds up the rodeo box office at gunpoint and takes the prize money he would have won if the attendance proceeds had been good-the other riders have to settle for 25 cents on the dollar (actually even less after Wayne robs the box office). No explanation is given for Wayne\\'s ripping off the riders and still being considered the hero who gets the girl. <br /><br />Things get complicated at this point because the villain (Al Ferguson) and his sidekick Larry Fine (played by Paul Fix-who would go on to play Sheriff Micah on television\\'s \"The Rifleman\") see Wayne rob the box office and then steal the remainder of the money and kill the rodeo manager. Moe and Curly get blamed. <br /><br />So Moe and Curly move to another town to get away from the law and they change their names to Smith and Jones. Who do they meet first but their old friend Larry, whose sister becomes the 2nd half love interest (Senorita Rita is left behind it the old town and makes no further appearances in the movie). <br /><br />Larry\\'s sister is nicely played by a radiantly beautiful Mary Kornman (now grown up but in her younger days she was one of the original cast members of Hal Roach\\'s \"Our Gang\" shorts). Kornman is the main reason to watch the mega-lame western and her scenes with Moe and Curly are much better than any others in the production, as if they used an entirely different crew to film them. <br /><br />Even for 1935 the action sequences in this thing are extremely weak and the technical film- making is staggeringly bad. The two main chase scenes end with stock footage wide shots of a rider falling from a horse. Both times the editor cuts to a shot of one of the characters rolling on the ground, but there is no horse in the frame, the film stock is completely different, and the character has on different clothes than the stunt rider. There is liberal use of stock footage in other places, none of it even remotely convincing. <br /><br />One thing to watch for is a scene midway into the movie where Moe and Curly get on their horses and ride away (to screen right) from a cabin as the posse is galloping toward the cabin from the left. The cameraman follows the two stooges with a slow pan right and then does a whip pan to the left to reveal the approaching posse. Outside of home movies I have never seen anything like this, not because it is looks stupid (which it does) but because a competent director would never stage a scene in this manner. They would film the two riders leaving and then reposition the camera and film the posse approaching as a separate action. Or if they were feeling creative they would stage the sequence so the camera shows the riders in the foreground and the posse approaching in the background. <br /><br />Then again, what do I know? I\\'m only a child.'],\n",
       "      dtype=object)>"
      ]
     },
     "execution_count": 142,
     "metadata": {},
     "output_type": "execute_result"
    }
   ],
   "source": [
    "train_examples_batch, train_labels_batch = next(iter(train_data.batch(10)))\n",
    "train_examples_batch"
   ]
  },
  {
   "cell_type": "code",
   "execution_count": 143,
   "metadata": {
    "colab": {},
    "colab_type": "code",
    "id": "n7L841eGsICR"
   },
   "outputs": [
    {
     "data": {
      "text/plain": [
       "<tf.Tensor: shape=(10,), dtype=string, numpy=\n",
       "array([b'First things first, the female lead is too gorgeous to be missed. Now actress Wang Zu Xian, the one who played Xiao Qian in the movie, is 42 years old and well aged. It\\'s always good to review these glorious times when seeing old-school HongKong productions like this.<br /><br />The movie is one of the most influential titles made in 1980s. The art set decoration and other aesthetic facets are all mesmerizing. More fantastically the movie had a total black humorous undertone in it. It feels like a horror movie but ultimately it\\'s not scaring, but only fun.<br /><br />I had the experience of translating the second script of \"A Chinese Ghotst Story\", and I thought that script was a decent write. However when I saw the movie, I firstly was disappointed in seeing the movie different from the script, like in a smaller scale and involving more comic roles. However, it turned out to be better executed in terms of being entertaining.<br /><br />If you have seen the Lord of the Rings, you will notice the similarities in this movie to LOTR. The climax is like a mirror of Miranda Otto fighting with the Ring Witch. It\\'s definitely a laugh-out-loud. Bravo!',\n",
       "       b'I firstly and completely and confidently disagree with the user who calls this a \"spoof\". Crispin Glover is very serious about his film. He personally introduced the film at the screening I saw in Chicago. He had worked on the film for years and it is the first in an intended trilogy. \"What is it?\" is Crispin Glover\\'s attempt at an art film in the vein of those he idolizes by Herzog, Lynch etc.<br /><br />I had heard rumor of this film years ago \"epic porno movie with all down-syndrome cast directed by crispin glover\". When it finally came out i watched the trailer on-line and read the synopsis and i was foaming at the mouth with anticipation. ...I went to chicago to see it and it was a major disappointment. If he took out the goofy sh*t, such as the pot-smoking grandma, and the dancing dolls, he would be left with something much better, but only about 10 minutes long.<br /><br />In other words just watch the trailer, be entertained, and leave it at that. There are some striking images and fantastic juxtapositions and phrases, but its lack of focus amounts to disappointment.',\n",
       "       b'The story of Cinderella is one of my favorites from Charles Perrault, with Sleeping Beauty which was also made into a Disney film in 1959; this film is a sweet, enchanting masterpiece from Disney.<br /><br />The film has a great soundtrack; that\\'s one I like in a movie is a very good soundtrack, and I love the songs too; my favorite song is the romantic \"So This is Love.\" I love the mice from the film too, they are cute. My favorite scene is the scene after the narration, the little birds tried to wake Cinderella up in the morning; I also love it when Cinderella\\'s animal friends (the mice and birds) fix up Cinderella\\'s birth-mother\\'s dress, so she could go to the ball...until Drizella & Anastasia tore it to bits, the b****es!',\n",
       "       b\"A truly adorable heroine who, at turns, is surprised and terrified by giblets, wrestles with mattresses, runs full-on into closed doors ... just a few of the moments that sparkle in my memory of 'The Naked Truth'. I LOVED what I caught of this show: enjoyably daft plots and some good supporting characters provided the setting for the diamond of the show - Tea Leoni as, 'Nora Wilde'; cute, clownish, and wonderfully accident-prone - How refreshing to see an actress who can clown - it's no wonder Hollyood doesn't seem to know how to cast her. But where-oh-WHERE are the DVD releases? The amount of (bleep) they release, it's incredible me that this little gem continues to remain buried. (Someone please correct me if I'm wrong.)\",\n",
       "       b\"Whoever says pokemon is stupid can die. This movie is superlative. I Even shead a tear when Celebei died. I DON'T CRY Much! This film is a touching animated thriller. <br /><br />In this fourth installment of pokemon, Ash and friends must stop the bad jerk from making Celebei the ultimate evil weapon with his dark ball. In the time, Sam and Celebei travel through time and continuously are hunted by game hunters. I like the part with the double battle and Sam has the apricorn pokeball (if you've played pokemon gold, silver, or crystal, you know what it is.)<br /><br />I also enjoyed having miramax in charge instead of Warner Brothers. Putting the mini movie at the end was a great idea. The pokemon in this movie come to life more than ever.\",\n",
       "       b\"Who did the research for this film? It's set in Baghdad in 2004, however all the Soldiers are wearing ACUs and have all Universal Camouflage Pattern gear. No one was wearing that stuff in 04. <br /><br />I just saw this film while deployed overseas and I can say that the overwhelming feeling from the audience was WTF? This movie made no sense, had characters come and go with no explanation, and people doing ridiculous things that would NEVER happen in real life. I realize that it's a movie, but it's obviously trying to portray something realistic. It fails miserably, but it's trying. <br /><br />It's like someone came up with a bunch of random ideas, chewed them up and swallowed, then vomited out a film. I would not recommend this film to anyone. I'm still not sure why I sat through the whole thing. GI Joe was one that really made you think compared to this. STAY AWAY!\",\n",
       "       b'Kenneth Branagh attempts to turn William Shakspeare\\'s obscure, rarely-produced comedy into a 1930s-era musical, with the result being both bad Shakespeare and bad musical comedy as the actors are rarely adept at one or the other of the two styles and in some cases flounder badly in both. Particularly painful is Nathan Lane, who seems to be under the impression that he is absolutely hysterical as Costard but is badly mistaken, and Alicia Silverstone who handles the Shakespearean language with all the authority of a teenaged Valley Girl who is reading the script aloud in her middle school English class.<br /><br />The musical numbers are staged with the expertise of a high school production of \"Dames at Sea,\" leaving the cast looking awkward and amateurish while singing and dancing, with the lone exception being Adrian Lester who proves himself a splendid song and dance man. The only other saving grace of the film are Natascha McElhone and Emily Mortimer\\'s contribution as eye candy, but they have given far better performances than in this film and you\\'d be wise to check out some of the other titles in their filmographies and gives this witless mess a pass.',\n",
       "       b'Bugs Bunny accidentally ends up at the South Pole while trying to vacation in Florida. Where he meets a little penquin, which he tries to save from an Eskimo. This short tries and the penquin is adorable, but in the end it\\'s a bit too light in the laughs department. The Eskimo isn\\'t really that great of a foil for Bugs and I just seen a lot better Bugs Bunny cartoons frankly, even other shorts when he\\'s paired with other unknown antagonists. So I can\\'t in good conscience recommend this one. However it is nice to see it in it\\'s uncut form. This cartoon is on Disk 3 of the \"Looney Tunes Golden Collection Volume 1\" <br /><br />My Grade: C',\n",
       "       b'I love occult Horror, and the great British Hammer Studios, who delivered one of their greatest films with \"The Devil Rides Out\" (1968), have proved to be more than capable in this field of Horror. This occult tenth episode of Hammer\\'s short running TV-series \"Hammer House of Horror\" (1980), \"Guardian of the Abyss\", is indeed a creepy entry to the series. Director Don Sharp, who had previously enriched the Hammer oeuvre with \"The Kiss of the Vampire\" (1963) and \"Rasputin: The Mad Monk\" (1966) and furthermore directed two \"Fu Machu\" movies starring Christopher Lee, is doubtlessly one of the better-known names among the HHH directors, and he also delivers here. Antiques dealer Michael (Ray Lonnen) stumbles over a mysterious old scrying glass. The scrying glass happens to be the object of desire of a devil-worshiping cult, who want to use it for their satanic rites. When he shelters a beautiful young girl named Allison (Rosalyn Landor), who is to be sacrificed by the cult, Michael gets into deeper trouble with the cult and their sinister leader (John Carson)... While this is not one of my absolute favorite episodes of \"Hammer House of Horror\" (the best one clearly is the brilliant seventh episode, \"The Silent Scream\"), it is a very creepy and atmospheric one. The plot has several interesting twists, and stays suspenseful and uncanny throughout the film. Ray Lonnen makes a good lead, young Rosalyin Landor is convincing as the innocent beauty, and John Carson is truly creepy as the leader of the Satanists. Overall, \"Guardian of the Abyss\" is another interesting and creepy HHH tale, and my fellow Hammer fans should not miss it.',\n",
       "       b'One of the most provocative films ever with excellent cinematography backed up by Mc Clarens lisp and stunning quote \"do you believe in love at first site?\".<br /><br />A trace of expressionism was evident in this picture, further catapulting the films flawless integrity. Gabby (AKA Joey) played by Eva Longoria clearly loved the movie and role she played so much that she couldn\\'t even be bothered giving it mention in her filmography. Lol.<br /><br />the best part of the movie would have to be without a doubt, the heroic rescue by MC clure as he saved the young \\'Handicapped\\' kid with the speech impediment.. Which i may add was acted to perfection! James Cahiil\\'s use of sound effects is unmatched even to this day. The drug bust he performs early in the film is pain stakingly realistic. When i watched this movie for the first time i was so compelled with the intense lack of respect for the Gang Inthused brothers from the Southside gang and the CTM (Cut Throat Mafia). This was by far one of the most encapsulating crevice Cahill has committed to filming.<br /><br />Personally this film holds sentimental value to me and i will be downloading it in the near future. Thats if i can find it anywhere, LOL!'],\n",
       "      dtype=object)>"
      ]
     },
     "execution_count": 143,
     "metadata": {},
     "output_type": "execute_result"
    }
   ],
   "source": [
    "test_examples_batch, test_labels_batch = next(iter(test_data.batch(10)))\n",
    "test_examples_batch"
   ]
  },
  {
   "cell_type": "code",
   "execution_count": 144,
   "metadata": {
    "colab": {},
    "colab_type": "code",
    "id": "tvAjVXOWc6Mj"
   },
   "outputs": [
    {
     "data": {
      "text/plain": [
       "<tf.Tensor: shape=(10,), dtype=int64, numpy=array([0, 0, 1, 0, 1, 0, 1, 1, 1, 0], dtype=int64)>"
      ]
     },
     "execution_count": 144,
     "metadata": {},
     "output_type": "execute_result"
    }
   ],
   "source": [
    "train_labels_batch"
   ]
  },
  {
   "cell_type": "code",
   "execution_count": 145,
   "metadata": {
    "colab": {},
    "colab_type": "code",
    "id": "5OcFQ48HsLlP"
   },
   "outputs": [
    {
     "data": {
      "text/plain": [
       "<tf.Tensor: shape=(10,), dtype=int64, numpy=array([1, 0, 1, 1, 1, 0, 0, 0, 1, 1], dtype=int64)>"
      ]
     },
     "execution_count": 145,
     "metadata": {},
     "output_type": "execute_result"
    }
   ],
   "source": [
    "test_labels_batch"
   ]
  },
  {
   "cell_type": "code",
   "execution_count": 146,
   "metadata": {
    "colab": {},
    "colab_type": "code",
    "id": "_NUbzVeYkgcO"
   },
   "outputs": [
    {
     "data": {
      "text/plain": [
       "<tf.Tensor: shape=(3, 20), dtype=float32, numpy=\n",
       "array([[ 2.209591  , -2.7093675 ,  3.6802928 , -1.0291991 , -4.1671185 ,\n",
       "        -2.4566064 , -2.2519937 , -0.36589956,  1.9485804 , -3.1104462 ,\n",
       "        -2.4610963 ,  1.3139242 , -0.9161584 , -0.16625322, -3.723651  ,\n",
       "         1.8498232 ,  3.499562  , -1.2373022 , -2.8403084 , -1.213074  ],\n",
       "       [ 1.9055302 , -4.11395   ,  3.6038654 ,  0.28555924, -4.658998  ,\n",
       "        -5.5433393 , -3.2735848 ,  1.9235417 ,  3.8461034 ,  1.5882455 ,\n",
       "        -2.64167   ,  0.76057523, -0.14820506,  0.9115291 , -6.45758   ,\n",
       "         2.3990374 ,  5.0985413 , -3.2776263 , -3.2652326 , -1.2345369 ],\n",
       "       [ 3.6510668 , -4.7066135 ,  4.71003   , -1.7002777 , -3.7708545 ,\n",
       "        -3.709126  , -4.222776  ,  1.946586  ,  6.1182513 , -2.7392752 ,\n",
       "        -5.4384456 ,  2.7078724 , -2.1263676 , -0.7084146 , -5.893995  ,\n",
       "         3.1602864 ,  3.8389287 , -3.318196  , -5.1542974 , -2.4051712 ]],\n",
       "      dtype=float32)>"
      ]
     },
     "execution_count": 146,
     "metadata": {},
     "output_type": "execute_result"
    }
   ],
   "source": [
    "embedding = \"https://tfhub.dev/google/tf2-preview/gnews-swivel-20dim/1\"\n",
    "hub_layer = hub.KerasLayer(embedding, input_shape=[], \n",
    "                           dtype=tf.string, trainable=True)\n",
    "hub_layer(train_examples_batch[:3])"
   ]
  },
  {
   "cell_type": "code",
   "execution_count": 147,
   "metadata": {
    "colab": {},
    "colab_type": "code",
    "id": "xpKOoWgu-llD"
   },
   "outputs": [
    {
     "name": "stdout",
     "output_type": "stream",
     "text": [
      "Model: \"sequential_12\"\n",
      "_________________________________________________________________\n",
      "Layer (type)                 Output Shape              Param #   \n",
      "=================================================================\n",
      "keras_layer_1 (KerasLayer)   (None, 20)                400020    \n",
      "_________________________________________________________________\n",
      "dense_42 (Dense)             (None, 10)                210       \n",
      "_________________________________________________________________\n",
      "dense_43 (Dense)             (None, 1)                 11        \n",
      "=================================================================\n",
      "Total params: 400,241\n",
      "Trainable params: 400,241\n",
      "Non-trainable params: 0\n",
      "_________________________________________________________________\n"
     ]
    }
   ],
   "source": [
    "model = tf.keras.Sequential()\n",
    "model.add(hub_layer)\n",
    "model.add(tf.keras.layers.Dense(10, activation='relu'))\n",
    "model.add(tf.keras.layers.Dense(1,activation='sigmoid'))\n",
    "model.summary()"
   ]
  },
  {
   "cell_type": "code",
   "execution_count": 148,
   "metadata": {
    "colab": {},
    "colab_type": "code",
    "id": "Mr0GP-cQ-llN"
   },
   "outputs": [],
   "source": [
    "model.compile(optimizer='adam',\n",
    "              loss='binary_crossentropy',\n",
    "              metrics=['accuracy'])"
   ]
  },
  {
   "cell_type": "code",
   "execution_count": 149,
   "metadata": {
    "colab": {},
    "colab_type": "code",
    "id": "tXSGrjWZ-llW"
   },
   "outputs": [
    {
     "name": "stdout",
     "output_type": "stream",
     "text": [
      "Epoch 1/20\n",
      "40/40 [==============================] - 3s 78ms/step - loss: 1.5361 - accuracy: 0.4964 - val_loss: 0.7368 - val_accuracy: 0.4804\n",
      "Epoch 2/20\n",
      "40/40 [==============================] - 2s 58ms/step - loss: 0.7030 - accuracy: 0.5336 - val_loss: 0.6691 - val_accuracy: 0.5904\n",
      "Epoch 3/20\n",
      "40/40 [==============================] - 2s 60ms/step - loss: 0.6517 - accuracy: 0.6188 - val_loss: 0.6280 - val_accuracy: 0.6496\n",
      "Epoch 4/20\n",
      "40/40 [==============================] - 2s 58ms/step - loss: 0.6179 - accuracy: 0.6716 - val_loss: 0.5968 - val_accuracy: 0.6916\n",
      "Epoch 5/20\n",
      "40/40 [==============================] - 2s 57ms/step - loss: 0.5862 - accuracy: 0.7040 - val_loss: 0.5713 - val_accuracy: 0.7168\n",
      "Epoch 6/20\n",
      "40/40 [==============================] - 2s 59ms/step - loss: 0.5606 - accuracy: 0.7269 - val_loss: 0.5467 - val_accuracy: 0.7364\n",
      "Epoch 7/20\n",
      "40/40 [==============================] - 2s 58ms/step - loss: 0.5335 - accuracy: 0.7464 - val_loss: 0.5209 - val_accuracy: 0.7544\n",
      "Epoch 8/20\n",
      "40/40 [==============================] - 2s 59ms/step - loss: 0.5031 - accuracy: 0.7685 - val_loss: 0.4928 - val_accuracy: 0.7776\n",
      "Epoch 9/20\n",
      "40/40 [==============================] - 2s 62ms/step - loss: 0.4700 - accuracy: 0.7912 - val_loss: 0.4622 - val_accuracy: 0.7948\n",
      "Epoch 10/20\n",
      "40/40 [==============================] - 2s 60ms/step - loss: 0.4359 - accuracy: 0.8138 - val_loss: 0.4310 - val_accuracy: 0.8132\n",
      "Epoch 11/20\n",
      "40/40 [==============================] - 2s 58ms/step - loss: 0.4010 - accuracy: 0.8333 - val_loss: 0.4014 - val_accuracy: 0.8328\n",
      "Epoch 12/20\n",
      "40/40 [==============================] - 2s 59ms/step - loss: 0.3732 - accuracy: 0.8512 - val_loss: 0.3757 - val_accuracy: 0.8448\n",
      "Epoch 13/20\n",
      "40/40 [==============================] - 2s 57ms/step - loss: 0.3400 - accuracy: 0.8677 - val_loss: 0.3546 - val_accuracy: 0.8544\n",
      "Epoch 14/20\n",
      "40/40 [==============================] - 2s 60ms/step - loss: 0.3137 - accuracy: 0.8805 - val_loss: 0.3347 - val_accuracy: 0.8632\n",
      "Epoch 15/20\n",
      "40/40 [==============================] - 2s 57ms/step - loss: 0.2912 - accuracy: 0.8886 - val_loss: 0.3197 - val_accuracy: 0.8672\n",
      "Epoch 16/20\n",
      "40/40 [==============================] - 2s 60ms/step - loss: 0.2733 - accuracy: 0.9000 - val_loss: 0.3073 - val_accuracy: 0.8736\n",
      "Epoch 17/20\n",
      "40/40 [==============================] - 2s 58ms/step - loss: 0.2525 - accuracy: 0.9069 - val_loss: 0.2972 - val_accuracy: 0.8768\n",
      "Epoch 18/20\n",
      "40/40 [==============================] - 2s 58ms/step - loss: 0.2365 - accuracy: 0.9132 - val_loss: 0.2899 - val_accuracy: 0.8772\n",
      "Epoch 19/20\n",
      "40/40 [==============================] - 2s 57ms/step - loss: 0.2231 - accuracy: 0.9200 - val_loss: 0.2823 - val_accuracy: 0.8784\n",
      "Epoch 20/20\n",
      "40/40 [==============================] - 2s 60ms/step - loss: 0.2113 - accuracy: 0.9253 - val_loss: 0.2786 - val_accuracy: 0.8820\n"
     ]
    }
   ],
   "source": [
    "history = model.fit(train_data.shuffle(10000).batch(512),\n",
    "                    epochs=20,\n",
    "                    validation_data=validation_data.batch(512),\n",
    "                    verbose=1)"
   ]
  },
  {
   "cell_type": "code",
   "execution_count": 150,
   "metadata": {
    "colab": {},
    "colab_type": "code",
    "id": "zOMKywn4zReN"
   },
   "outputs": [
    {
     "name": "stdout",
     "output_type": "stream",
     "text": [
      "loss: 0.295\n",
      "accuracy: 0.875\n"
     ]
    }
   ],
   "source": [
    "results = model.evaluate(test_data.batch(512), verbose=2)\n",
    "for name, value in zip(model.metrics_names, results):\n",
    "  print(\"%s: %.3f\" % (name, value))"
   ]
  },
  {
   "cell_type": "markdown",
   "metadata": {},
   "source": [
    "### Анализ"
   ]
  },
  {
   "cell_type": "markdown",
   "metadata": {},
   "source": [
    "    Получили модель классификации положительных и отрицательных отзывов.  ( 0 - отр, 1 - положительный отзывы)  "
   ]
  },
  {
   "cell_type": "markdown",
   "metadata": {},
   "source": [
    "Визуализируем loss и acc для удобства используя History() callback из fit"
   ]
  },
  {
   "cell_type": "code",
   "execution_count": 151,
   "metadata": {},
   "outputs": [],
   "source": [
    "import matplotlib.pyplot as plt\n",
    "plt.style.use('ggplot')\n",
    "\n",
    "def plot_history(history):\n",
    "    acc = history.history['accuracy']\n",
    "    val_acc = history.history['val_accuracy']\n",
    "    loss = history.history['loss']\n",
    "    val_loss = history.history['val_loss']\n",
    "    x = range(1, len(acc) + 1)\n",
    "\n",
    "    plt.figure(figsize=(12, 5))\n",
    "    plt.subplot(1, 2, 1)\n",
    "    plt.plot(x, acc, 'b', label='Training acc')\n",
    "    plt.plot(x, val_acc, 'r', label='Validation acc')\n",
    "    plt.title('Training and validation accuracy')\n",
    "    plt.legend()\n",
    "    plt.subplot(1, 2, 2)\n",
    "    plt.plot(x, loss, 'b', label='Training loss')\n",
    "    plt.plot(x, val_loss, 'r', label='Validation loss')\n",
    "    plt.title('Training and validation loss')\n",
    "    plt.legend()\n",
    "\n"
   ]
  },
  {
   "cell_type": "code",
   "execution_count": 152,
   "metadata": {
    "scrolled": true
   },
   "outputs": [
    {
     "data": {
      "image/png": "[encoded data removed]",
      "text/plain": [
       "<Figure size 864x360 with 2 Axes>"
      ]
     },
     "metadata": {},
     "output_type": "display_data"
    }
   ],
   "source": [
    "plot_history(history)"
   ]
  },
  {
   "cell_type": "markdown",
   "metadata": {},
   "source": [
    "    Параметры слоев подобраны оптимально\n",
    "    20 эпох достаточно, кривая accuracy плавно растет\n",
    "    Переобучения нет, тк кривая loss все время опускается\n",
    "    Положительно на точность повлияло заданное количества эпох.     \n",
    "    Для повышения точности использован слой из Tensor hub, который основан на вставке текста на основе матричной факторизации Swivel с предварительно созданным OOV (Out-Of-Vocabulary). Он делает карты из текста, на выходе 20-мерные векторы.   \n",
    "    (Text embedding based on Swivel co-occurrence matrix factorization with pre-built OOV. Maps from text to 20-dimensional embedding vectors.)"
   ]
  },
  {
   "cell_type": "markdown",
   "metadata": {},
   "source": [
    "#### 2. Новая фича из документации, \n",
    "\n",
    "Можно делиться моделями через TensorFlow Hub \n",
    "\n",
    "    embedding = \"https://tfhub.dev/google/tf2-preview/gnews-swivel-20dim/1\"\n",
    "    hub_layer = hub.KerasLayer(embedding, input_shape=[], dtype=tf.string, trainable=True)\n",
    "\n",
    "TensorFlow Hub\n",
    "- это библиотека для публикации, обнаружения и использования повторно используемых частей моделей машинного обучения."
   ]
  }
 ],
 "metadata": {
  "kernelspec": {
   "display_name": "Python 3",
   "language": "python",
   "name": "python3"
  },
  "language_info": {
   "codemirror_mode": {
    "name": "ipython",
    "version": 3
   },
   "file_extension": ".py",
   "mimetype": "text/x-python",
   "name": "python",
   "nbconvert_exporter": "python",
   "pygments_lexer": "ipython3",
   "version": "3.7.6"
  }
 },
 "nbformat": 4,
 "nbformat_minor": 4
}
