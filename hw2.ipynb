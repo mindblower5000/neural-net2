{
 "cells": [
  {
   "cell_type": "markdown",
   "metadata": {},
   "source": [
    "### HW2"
   ]
  },
  {
   "cell_type": "markdown",
   "metadata": {},
   "source": [
    "## Практическое задание\n",
    "\n",
    "### 1. Попробуйте обучить нейронную сеть на Keras с другими параметрами. Опишите в комментарии к уроку - какой результата вы добились от нейросети? Что помогло вам улучшить ее точность?\n"
   ]
  },
  {
   "cell_type": "code",
   "execution_count": 67,
   "metadata": {},
   "outputs": [],
   "source": [
    "# The full neural network code!\n",
    "###############################\n",
    "import numpy as np\n",
    "import mnist\n",
    "from keras.models import Sequential\n",
    "from keras.layers import Dense\n",
    "from keras.utils import to_categorical\n"
   ]
  },
  {
   "cell_type": "code",
   "execution_count": 68,
   "metadata": {},
   "outputs": [
    {
     "data": {
      "text/plain": [
       "[]"
      ]
     },
     "execution_count": 68,
     "metadata": {},
     "output_type": "execute_result"
    }
   ],
   "source": [
    "import keras\n",
    "import tensorflow as tf\n",
    "from keras import backend as K\n",
    "from keras.optimizers import SGD\n",
    "\n",
    "config = tf.ConfigProto( device_count = {'GPU': 1 , 'CPU': 6} ) \n",
    "sess = tf.Session(config=config) \n",
    "keras.backend.set_session(sess)\n",
    "K.tensorflow_backend._get_available_gpus()"
   ]
  },
  {
   "cell_type": "markdown",
   "metadata": {},
   "source": [
    "Cuda не установлена похоже. keras-gpu поставил. Либо она теано только ускоряет. хм. Было бы интересно использовать видюху. "
   ]
  },
  {
   "cell_type": "code",
   "execution_count": 69,
   "metadata": {},
   "outputs": [],
   "source": [
    "\n",
    "train_images = mnist.train_images()\n",
    "train_labels = mnist.train_labels()\n",
    "test_images = mnist.test_images()\n",
    "test_labels = mnist.test_labels()\n",
    "\n",
    "# Normalize the images.\n",
    "train_images = (train_images / 255) - 0.5\n",
    "test_images = (test_images / 255) - 0.5\n",
    "\n",
    "# Flatten the images.\n",
    "train_images = train_images.reshape((-1, 784))\n",
    "test_images = test_images.reshape((-1, 784))\n",
    "\n"
   ]
  },
  {
   "cell_type": "code",
   "execution_count": 70,
   "metadata": {},
   "outputs": [
    {
     "name": "stdout",
     "output_type": "stream",
     "text": [
      "Epoch 1/6\n",
      "60000/60000 [==============================] - 2s 39us/step - loss: 0.4262 - accuracy: 0.8673\n",
      "Epoch 2/6\n",
      "60000/60000 [==============================] - 2s 37us/step - loss: 0.1877 - accuracy: 0.9419\n",
      "Epoch 3/6\n",
      "60000/60000 [==============================] - 2s 34us/step - loss: 0.1406 - accuracy: 0.9564\n",
      "Epoch 4/6\n",
      "60000/60000 [==============================] - ETA: 0s - loss: 0.1165 - accuracy: 0.96 - 2s 34us/step - loss: 0.1159 - accuracy: 0.9638\n",
      "Epoch 5/6\n",
      "60000/60000 [==============================] - 2s 36us/step - loss: 0.0971 - accuracy: 0.9691\n",
      "Epoch 6/6\n",
      "60000/60000 [==============================] - 2s 34us/step - loss: 0.0836 - accuracy: 0.9733\n",
      "10000/10000 [==============================] - 1s 58us/step\n",
      "[7 2 1 0 4]\n",
      "[7 2 1 0 4]\n"
     ]
    }
   ],
   "source": [
    "# Build the model.\n",
    "model = Sequential([\n",
    "  Dense(64, activation='relu', input_shape=(784,)),\n",
    "  Dense(128, activation='relu'),    \n",
    "  Dense(128, activation='relu'),  \n",
    "  Dense(10, activation='softmax'),\n",
    "])\n",
    "\n",
    "sgd = SGD(learning_rate=0.0099, momentum=0.9, nesterov=False, decay=1e-6)\n",
    "# Compile the model.\n",
    "model.compile(\n",
    "  optimizer=sgd,\n",
    "  loss='categorical_crossentropy',\n",
    "  metrics=['accuracy'],\n",
    ")\n",
    "\n",
    "# Train the model.\n",
    "model.fit(\n",
    "  train_images,\n",
    "  to_categorical(train_labels),\n",
    "  epochs=6,\n",
    "  batch_size=64,\n",
    ")\n",
    "\n",
    "\n",
    "# Evaluate the model.\n",
    "model.evaluate(\n",
    "  test_images,\n",
    "  to_categorical(test_labels)\n",
    ")\n",
    "\n",
    "# Save the model to disk.\n",
    "model.save_weights('model.h5')\n",
    "\n",
    "# Load the model from disk later using:\n",
    "# model.load_weights('model.h5')\n",
    "\n",
    "# Predict on the first 5 test images.\n",
    "predictions = model.predict(test_images[:5])\n",
    "\n",
    "# Print our model's predictions.\n",
    "print(np.argmax(predictions, axis=1)) # [7, 2, 1, 0, 4]\n",
    "\n",
    "# Check our predictions against the ground truths.\n",
    "print(test_labels[:5]) # [7, 2, 1, 0, 4]"
   ]
  },
  {
   "cell_type": "markdown",
   "metadata": {},
   "source": [
    "#### Результат:\n",
    "    SGD Optimizer уменьшил время обучения. \n",
    "    Другие функции активации результат не улучшили.\n",
    "    ДОбавление еше одного скрытого слоя на качество практически не влияет. \n",
    "    Увеличение узлов в скрытом слое добавляет качество обучения.\n",
    "    Увеличение batch-size уменьшает скорость обучения, но есть порог при котором ухудшается качество.\n",
    "    Увеличение эпох влияет на точность, главное не переобучить модель. "
   ]
  },
  {
   "cell_type": "markdown",
   "metadata": {},
   "source": [
    " ### 2. Поработайте с документацией Keras.\n"
   ]
  },
  {
   "cell_type": "markdown",
   "metadata": {},
   "source": [
    "Можно остановиться, если ошибка перестала уменьшаться используя \n",
    "from keras.callbacks import EarlyStopping  "
   ]
  },
  {
   "cell_type": "markdown",
   "metadata": {},
   "source": [
    "Удобно описывать модель, смешивая оба способа — Functional API и Sequential API, что бы извлекать, сохранять и применять к новым входным данным куски модели"
   ]
  },
  {
   "cell_type": "markdown",
   "metadata": {},
   "source": [
    "Есть метод извлечение слоя."
   ]
  }
 ],
 "metadata": {
  "kernelspec": {
   "display_name": "Python 3",
   "language": "python",
   "name": "python3"
  },
  "language_info": {
   "codemirror_mode": {
    "name": "ipython",
    "version": 3
   },
   "file_extension": ".py",
   "mimetype": "text/x-python",
   "name": "python",
   "nbconvert_exporter": "python",
   "pygments_lexer": "ipython3",
   "version": "3.7.6"
  }
 },
 "nbformat": 4,
 "nbformat_minor": 4
}
